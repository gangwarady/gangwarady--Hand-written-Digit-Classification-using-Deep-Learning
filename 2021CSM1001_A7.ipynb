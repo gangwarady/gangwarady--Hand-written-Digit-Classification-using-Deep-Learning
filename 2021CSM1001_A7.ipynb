{
  "nbformat": 4,
  "nbformat_minor": 0,
  "metadata": {
    "colab": {
      "name": "2021CSM1001_A7.ipynb",
      "provenance": [],
      "collapsed_sections": []
    },
    "kernelspec": {
      "name": "python3",
      "display_name": "Python 3"
    },
    "language_info": {
      "name": "python"
    }
  },
  "cells": [
    {
      "cell_type": "code",
      "metadata": {
        "id": "ZV54-44yw5xh"
      },
      "source": [
        "#ADITYA SINGH GANGWAR\n",
        "#2021CSM1001"
      ],
      "execution_count": null,
      "outputs": []
    },
    {
      "cell_type": "markdown",
      "metadata": {
        "id": "eZ5S_lUCTdOX"
      },
      "source": [
        "# Assignment 7 : Hand-written Digit Classification using Deep Learning\n",
        "\n",
        "---\n",
        "\n",
        "\n",
        "Total Points: **100**\n",
        "\n",
        "Tentative Weightage : **20%**\n",
        "\n",
        "Submission Deadline : **24th November 2021, 11:00 AM**\n",
        "\n",
        "---\n",
        "\n",
        "\n",
        "\n",
        "General Instructions:\n",
        "\n",
        "---\n",
        "\n",
        "\n",
        "1. You have to do this lab individually.\n",
        "2. Along with **tensorflow** and **keras**, you may use **seaborn, matplotlib, pandas, numpy, sklearn, scikit-learn libraries**\n",
        "3. All the code should be submitted in the form of a single colab notebook.\n",
        "4. Points for each sub-section are mentioned in the appropriate question.\n",
        "5. You can use Google colab to run a jupyter notebook (https://colab.research.google.com/) How to load data in Google Colab ?(https://towardsdatascience.com/3-ways-to-load-csv-files-into-colab-7c14fcbdcb92) (https://www.marktechpost.com/2019/06/07/how-to-connect-google-colab-with-google-drive/). \n",
        "6. The assignment must be submitted on Google classroom. The code as well as the accompanying observations should be made part of the notebook.\n",
        "7. **Code Readability** is very important. Modularize your code by making use of classes, functions that can be flexibly reused wherever necessary. Also use self explanatory variable names and add comments to describe your approach wherever necessary. You may add additional code or text blocks as necessary.\n",
        "8. You are expected to write your **observations** (preferably in a text block) and not just an error free code.\n",
        "9. You are expected to follow the **honor code** of the class.\n",
        "10. The deadline is strict and any assignment submitted later will not\n",
        "be considered for evaluation.\n",
        "11. The marks will be awarded on the basis of quality of code, use of innovative data structures, scalability, correctness, and observations made.\n",
        "12. You can add as many code or text cells in this notebook.\n",
        "13. You will have to mount your drive and change the paths according to your implementation. "
      ]
    },
    {
      "cell_type": "markdown",
      "metadata": {
        "id": "v0hOZUvWUHV6"
      },
      "source": [
        "#Dataset\n",
        "\n",
        "###About the Dataset\n",
        "\n",
        "\n",
        "The MNIST dataset is stands for the \"Modified National Institute of Standards and Technology\" dataset. <br> It consists of 70,000 square grayscale images of size 28x28 pixels. The images are of handwritten single digits<br> between 0 and 9 i.e. 10 classes are present.\n",
        "\n",
        "**This dataset comes bundled with the Keras lib. You have to use mnist dataset available in keras.datasets**"
      ]
    },
    {
      "cell_type": "markdown",
      "metadata": {
        "id": "BVn8jqYiV2ZN"
      },
      "source": [
        "#**Section 1: (10 points)** \n",
        "\n",
        "1. Load dataset (1 point)\n",
        "\n",
        "2. The MNIST dataset provide a split of Train and Test. Display total number of train and test samples in dataset (1 point).\n",
        "\n",
        "3. print number of classes in dataset (2 points).\n",
        "\n",
        "4. show 9 samples (images) of from train data in a matplot grid of 3x3 (3 points).\n",
        "\n",
        "5. Plot a bar graph showing number of samples of each class in train dataset (3 points)"
      ]
    },
    {
      "cell_type": "code",
      "metadata": {
        "id": "ZwakSj0ojx4U"
      },
      "source": [
        "#Imports you may need, you can add or remove according to your need\n",
        "\n",
        "from keras.models import Sequential\n",
        "from keras.layers import Dense\n",
        "from keras.layers import Dropout\n",
        "from keras.utils import np_utils\n",
        "from keras.layers.convolutional import Conv2D\n",
        "from keras.layers.convolutional import MaxPooling2D\n",
        "from keras.layers import Flatten\n",
        "from matplotlib import pyplot as plt\n",
        "import numpy as np\n",
        "from sklearn.model_selection import train_test_split"
      ],
      "execution_count": null,
      "outputs": []
    },
    {
      "cell_type": "code",
      "metadata": {
        "id": "lOzGi6pRS03Y"
      },
      "source": [
        "#just use below given line to import the dataset from keras \n",
        "from keras.datasets import mnist\n",
        "\n"
      ],
      "execution_count": null,
      "outputs": []
    },
    {
      "cell_type": "code",
      "metadata": {
        "id": "GVxQxVU_VlGY"
      },
      "source": [
        "#you need to load dataset \n",
        "(x_train, y_train), (x_test, y_test) =mnist.load_data()\n"
      ],
      "execution_count": null,
      "outputs": []
    },
    {
      "cell_type": "code",
      "metadata": {
        "id": "uwGbbajqV-0s",
        "colab": {
          "base_uri": "https://localhost:8080/"
        },
        "outputId": "3cba408a-cfa0-44b4-bdac-71853ccbe234"
      },
      "source": [
        "#print number of samples in train and test \n",
        "print(\"Number of samples in train:\", len(x_train)) \n",
        "print(\"Number of samples in test:\", len(x_test))\n"
      ],
      "execution_count": null,
      "outputs": [
        {
          "output_type": "stream",
          "name": "stdout",
          "text": [
            "Number of samples in train: 60000\n",
            "Number of samples in test: 10000\n"
          ]
        }
      ]
    },
    {
      "cell_type": "code",
      "metadata": {
        "id": "8zpRjKFLZvqv",
        "colab": {
          "base_uri": "https://localhost:8080/"
        },
        "outputId": "1be9eaec-0669-4b11-dbac-700742ebc6ba"
      },
      "source": [
        "#print number of clases in dataset\n",
        "print(np.unique(y_train))\n",
        "print(\"Number of classes in dataset: \",len(np.unique(y_train)))"
      ],
      "execution_count": null,
      "outputs": [
        {
          "output_type": "stream",
          "name": "stdout",
          "text": [
            "[0 1 2 3 4 5 6 7 8 9]\n",
            "Number of classes in dataset:  10\n"
          ]
        }
      ]
    },
    {
      "cell_type": "code",
      "metadata": {
        "id": "DqKXHwo_WQwl",
        "colab": {
          "base_uri": "https://localhost:8080/",
          "height": 286
        },
        "outputId": "a67bb261-a9e6-436e-ee65-aa12ecef710e"
      },
      "source": [
        "#show 9 sample(image) of from train data\n",
        "\n",
        "_, axis = plt.subplots(3,3)\n",
        "axis[0,0].imshow(x_train[1])\n",
        "axis[0,1].imshow(x_train[2])\n",
        "axis[0,2].imshow(x_train[3])\n",
        "axis[1,0].imshow(x_train[4])\n",
        "axis[1,1].imshow(x_train[27])\n",
        "axis[1,2].imshow(x_train[18])\n",
        "axis[2,0].imshow(x_train[11])\n",
        "axis[2,1].imshow(x_train[15])\n",
        "axis[2,2].imshow(x_train[16])\n"
      ],
      "execution_count": null,
      "outputs": [
        {
          "output_type": "execute_result",
          "data": {
            "text/plain": [
              "<matplotlib.image.AxesImage at 0x7f3fdd484310>"
            ]
          },
          "metadata": {},
          "execution_count": 55
        },
        {
          "output_type": "display_data",
          "data": {
            "image/png": "[encoded data removed]",
            "text/plain": [
              "<Figure size 432x288 with 9 Axes>"
            ]
          },
          "metadata": {
            "needs_background": "light"
          }
        }
      ]
    },
    {
      "cell_type": "code",
      "metadata": {
        "colab": {
          "base_uri": "https://localhost:8080/",
          "height": 469
        },
        "id": "iScgE1orwriE",
        "outputId": "a6cc983f-a674-476e-d895-5a51d8d047fb"
      },
      "source": [
        "clas, number = np.unique(y_train, return_counts=True)\n",
        "\n",
        "distribution = np.column_stack((clas, number)) \n",
        "print (distribution)\n",
        "plt.bar(clas, number, color ='blue', width = 0.3)\n",
        "plt.xticks(clas)\n",
        "plt.xlabel(\"Classes\")\n",
        "plt.ylabel(\"No. of samples\")\n",
        "plt.title(\"No. of samples for each class\")\n",
        "plt.show()"
      ],
      "execution_count": null,
      "outputs": [
        {
          "output_type": "stream",
          "name": "stdout",
          "text": [
            "[[   0 5923]\n",
            " [   1 6742]\n",
            " [   2 5958]\n",
            " [   3 6131]\n",
            " [   4 5842]\n",
            " [   5 5421]\n",
            " [   6 5918]\n",
            " [   7 6265]\n",
            " [   8 5851]\n",
            " [   9 5949]]\n"
          ]
        },
        {
          "output_type": "display_data",
          "data": {
            "image/png": "[encoded data removed]",
            "text/plain": [
              "<Figure size 432x288 with 1 Axes>"
            ]
          },
          "metadata": {
            "needs_background": "light"
          }
        }
      ]
    },
    {
      "cell_type": "markdown",
      "metadata": {
        "id": "DBqJzSqMXuZH"
      },
      "source": [
        "#**Section 2: Preprocessing (20 points)**\n",
        "\n",
        "1. Reshape train and test images into (number of samples, 28, 28, 1) (5 points)\n",
        "\n",
        "2. Normalization: It is used to change the values of numeric columns in the dataset to have a common scale (5 points).\n",
        "\n",
        "3. One hot encoding: It is a type of representation used in multi class classification. Here each bit represents a possible category. Apply One hot encoding on Y_train and Y_test. (5 points)\n",
        "\n",
        "4. Split train data into train and validation data in ratio 80:20 and print count in train and validation data (5 points). You may want to read about the validation set and its uses."
      ]
    },
    {
      "cell_type": "code",
      "metadata": {
        "id": "Ofzici0GYwq5",
        "colab": {
          "base_uri": "https://localhost:8080/"
        },
        "outputId": "a852fadf-6241-4ad5-9bfc-a2b8cf39e582"
      },
      "source": [
        "#Reshape\n",
        "x_train=x_train.reshape(len(x_train),28,28,1)\n",
        "x_test=x_test.reshape(len(x_test),28,28,1)\n",
        "print(x_train.shape)\n",
        "print(x_test.shape)"
      ],
      "execution_count": null,
      "outputs": [
        {
          "output_type": "stream",
          "name": "stdout",
          "text": [
            "(60000, 28, 28, 1)\n",
            "(10000, 28, 28, 1)\n"
          ]
        }
      ]
    },
    {
      "cell_type": "code",
      "metadata": {
        "id": "Qyud3SyVZ7Ne"
      },
      "source": [
        "#Normalize\n",
        "x_train=x_train.astype(np.float32)/255\n",
        "x_test=x_test.astype(np.float32)/255\n"
      ],
      "execution_count": null,
      "outputs": []
    },
    {
      "cell_type": "markdown",
      "metadata": {
        "id": "IVc6V6E5rVBM"
      },
      "source": [
        "Divide x_train and x_test by 255 so we get pixel values from 0 to 1"
      ]
    },
    {
      "cell_type": "code",
      "metadata": {
        "id": "7qHMT8N9Z_EM",
        "colab": {
          "base_uri": "https://localhost:8080/"
        },
        "outputId": "8044e3b9-2a3f-405a-f9f7-05d2537e517b"
      },
      "source": [
        "#Perform One hot encoding\n",
        "y_train=np_utils.to_categorical(y_train)\n",
        "y_test=np_utils.to_categorical(y_test)\n",
        "y_test"
      ],
      "execution_count": null,
      "outputs": [
        {
          "output_type": "execute_result",
          "data": {
            "text/plain": [
              "array([[0., 0., 0., ..., 1., 0., 0.],\n",
              "       [0., 0., 1., ..., 0., 0., 0.],\n",
              "       [0., 1., 0., ..., 0., 0., 0.],\n",
              "       ...,\n",
              "       [0., 0., 0., ..., 0., 0., 0.],\n",
              "       [0., 0., 0., ..., 0., 0., 0.],\n",
              "       [0., 0., 0., ..., 0., 0., 0.]], dtype=float32)"
            ]
          },
          "metadata": {},
          "execution_count": 59
        }
      ]
    },
    {
      "cell_type": "markdown",
      "metadata": {
        "id": "H2BZOo8wu2k1"
      },
      "source": [
        "Using one hot encoding we can convert each y_train and y_test sample into a 10 element array where index of each sample will be its class value and rest all indexes will be 0. Index at which there is 1 will be only activated."
      ]
    },
    {
      "cell_type": "code",
      "metadata": {
        "id": "T6ziNOgzifxb",
        "colab": {
          "base_uri": "https://localhost:8080/"
        },
        "outputId": "dbc7f628-9dc7-49f9-c41d-b0a0f7e509ae"
      },
      "source": [
        "#You need to split data in train and validation data in 80:20\n",
        "\n",
        "x_train, x_vali, y_train, y_vali = train_test_split(x_train, y_train, test_size= 0.2, random_state= 27)\n",
        "print(x_train.shape)\n",
        "print(x_vali.shape)\n",
        "print(y_train.shape)\n",
        "print(y_vali.shape)"
      ],
      "execution_count": null,
      "outputs": [
        {
          "output_type": "stream",
          "name": "stdout",
          "text": [
            "(48000, 28, 28, 1)\n",
            "(12000, 28, 28, 1)\n",
            "(48000, 10)\n",
            "(12000, 10)\n"
          ]
        }
      ]
    },
    {
      "cell_type": "markdown",
      "metadata": {
        "id": "pSvWOvnIwo3g"
      },
      "source": [
        "We split the train data into train and validation data in the ratio of 80:20. This validation data is used to show how much our model is getting predictions correct with the unseen data."
      ]
    },
    {
      "cell_type": "markdown",
      "metadata": {
        "id": "X4ocZdLYaO6X"
      },
      "source": [
        "#**Section 3: Model (10 points)**\n",
        "\n",
        "Create a sequential model as per the following specifications (2 points per question):<br><br> \n",
        "1. Add a Conv2D layer with 32 kernels, 3x3 filter, and relu activation\n",
        "1. Add a MaxPooling layer\n",
        "1. Add a Flatten layer\n",
        "1. Add a dense layer with 128 units and relu activation\n",
        "1. Add a dense layer with 10 units annd softmax activation\n"
      ]
    },
    {
      "cell_type": "code",
      "metadata": {
        "id": "rBlGiQ5ba0EP"
      },
      "source": [
        "def MyModel():\n",
        "\tmodel = Sequential()\n",
        " \t#Create the model here\n",
        "\tmodel.add(Conv2D(32,(3,3),input_shape=(28,28,1),activation='relu'))\n",
        "\tmodel.add(MaxPooling2D((2,2)))\n",
        "\tmodel.add(Flatten())\n",
        "\tmodel.add(Dense(128, activation='relu'))\n",
        "\tmodel.add(Dense(10, activation='softmax'))\n",
        " \n",
        "\t# Compile model\n",
        "\tmodel.compile(loss='categorical_crossentropy', optimizer='adam', metrics=['accuracy'])\n",
        "\treturn model"
      ],
      "execution_count": null,
      "outputs": []
    },
    {
      "cell_type": "markdown",
      "metadata": {
        "id": "ibyaEVp2wygS"
      },
      "source": [
        "We use sequential model where we place each layer one after another where input will flow from first layer to last layer sequentially.\n",
        "\n",
        "Since it is multiclass classification problem where output can be from 0 to 9, we have used softmax activation function.\n",
        "\n",
        "We have also used flatten function to convert multi-dimensional input tensors into a single dimension."
      ]
    },
    {
      "cell_type": "code",
      "metadata": {
        "id": "1egdJgLJgF_R",
        "colab": {
          "base_uri": "https://localhost:8080/"
        },
        "outputId": "7444a044-bb1f-4471-c6c9-44aca8536f80"
      },
      "source": [
        "#call the above given function and print model summary\n",
        "\n",
        "mymodel=MyModel()\n",
        "mymodel.summary()"
      ],
      "execution_count": null,
      "outputs": [
        {
          "output_type": "stream",
          "name": "stdout",
          "text": [
            "Model: \"sequential_4\"\n",
            "_________________________________________________________________\n",
            " Layer (type)                Output Shape              Param #   \n",
            "=================================================================\n",
            " conv2d_8 (Conv2D)           (None, 26, 26, 32)        320       \n",
            "                                                                 \n",
            " max_pooling2d_6 (MaxPooling  (None, 13, 13, 32)       0         \n",
            " 2D)                                                             \n",
            "                                                                 \n",
            " flatten_4 (Flatten)         (None, 5408)              0         \n",
            "                                                                 \n",
            " dense_8 (Dense)             (None, 128)               692352    \n",
            "                                                                 \n",
            " dense_9 (Dense)             (None, 10)                1290      \n",
            "                                                                 \n",
            "=================================================================\n",
            "Total params: 693,962\n",
            "Trainable params: 693,962\n",
            "Non-trainable params: 0\n",
            "_________________________________________________________________\n"
          ]
        }
      ]
    },
    {
      "cell_type": "markdown",
      "metadata": {
        "id": "R78M7_RyzstB"
      },
      "source": [
        "Total parameters are 693,962 that will be learnt by our model."
      ]
    },
    {
      "cell_type": "markdown",
      "metadata": {
        "id": "Nlic-8Fug8JN"
      },
      "source": [
        "#**Section 5: Model Training (20 points)**\n",
        "\n",
        "1. You need to fit the above created model with 10 epochs, batch_size as 32, and verbose as 1 (10 points).\n",
        "\n",
        "2. Plot a graph showing validation accuracy of the model during training. (5 points).\n",
        "\n",
        "3. Plot a graph showing validation loss of the model during training. (5 point)"
      ]
    },
    {
      "cell_type": "code",
      "metadata": {
        "id": "iTwfz_09gLGt",
        "colab": {
          "base_uri": "https://localhost:8080/"
        },
        "outputId": "5d732e5b-a611-4cc7-f9c3-06ee09f0639f"
      },
      "source": [
        "#fit the above created model and plot the graphs\n",
        "mymodel_train=mymodel.fit(x_train,y_train,epochs=10,batch_size=32,verbose=1,validation_data=(x_vali, y_vali))"
      ],
      "execution_count": null,
      "outputs": [
        {
          "output_type": "stream",
          "name": "stdout",
          "text": [
            "Epoch 1/10\n",
            "1500/1500 [==============================] - 33s 22ms/step - loss: 0.1720 - accuracy: 0.9485 - val_loss: 0.0788 - val_accuracy: 0.9769\n",
            "Epoch 2/10\n",
            "1500/1500 [==============================] - 32s 22ms/step - loss: 0.0582 - accuracy: 0.9821 - val_loss: 0.0675 - val_accuracy: 0.9810\n",
            "Epoch 3/10\n",
            "1500/1500 [==============================] - 32s 22ms/step - loss: 0.0364 - accuracy: 0.9889 - val_loss: 0.0660 - val_accuracy: 0.9801\n",
            "Epoch 4/10\n",
            "1500/1500 [==============================] - 32s 22ms/step - loss: 0.0253 - accuracy: 0.9921 - val_loss: 0.0609 - val_accuracy: 0.9823\n",
            "Epoch 5/10\n",
            "1500/1500 [==============================] - 33s 22ms/step - loss: 0.0174 - accuracy: 0.9947 - val_loss: 0.0631 - val_accuracy: 0.9839\n",
            "Epoch 6/10\n",
            "1500/1500 [==============================] - 32s 22ms/step - loss: 0.0125 - accuracy: 0.9958 - val_loss: 0.0743 - val_accuracy: 0.9806\n",
            "Epoch 7/10\n",
            "1500/1500 [==============================] - 32s 22ms/step - loss: 0.0097 - accuracy: 0.9968 - val_loss: 0.0629 - val_accuracy: 0.9858\n",
            "Epoch 8/10\n",
            "1500/1500 [==============================] - 32s 21ms/step - loss: 0.0074 - accuracy: 0.9977 - val_loss: 0.0782 - val_accuracy: 0.9816\n",
            "Epoch 9/10\n",
            "1500/1500 [==============================] - 32s 22ms/step - loss: 0.0069 - accuracy: 0.9976 - val_loss: 0.0719 - val_accuracy: 0.9843\n",
            "Epoch 10/10\n",
            "1500/1500 [==============================] - 32s 22ms/step - loss: 0.0060 - accuracy: 0.9981 - val_loss: 0.0815 - val_accuracy: 0.9823\n"
          ]
        }
      ]
    },
    {
      "cell_type": "code",
      "metadata": {
        "colab": {
          "base_uri": "https://localhost:8080/",
          "height": 295
        },
        "id": "pCRJ1o7WGJ07",
        "outputId": "c0d7060a-a6cc-4813-d0dc-723b587f6c8e"
      },
      "source": [
        "plt.plot(mymodel_train.history['val_accuracy'],label='Validation Data Accuracy')\n",
        "plt.plot(mymodel_train.history['accuracy'],label='Train Data Accuracy')\n",
        "plt.xlabel('epochs')\n",
        "plt.ylabel('accuracy')\n",
        "plt.legend(loc='lower right')\n",
        "plt.title('Model Accuracy')\n",
        "plt.show()"
      ],
      "execution_count": null,
      "outputs": [
        {
          "output_type": "display_data",
          "data": {
            "image/png": "[encoded data removed]",
            "text/plain": [
              "<Figure size 432x288 with 1 Axes>"
            ]
          },
          "metadata": {
            "needs_background": "light"
          }
        }
      ]
    },
    {
      "cell_type": "markdown",
      "metadata": {
        "id": "xkdmbtce3zZL"
      },
      "source": [
        "\n",
        "\n",
        "\n",
        "\n",
        "*   For each epoch we are getting increased accuracy in train dataset. \n",
        "*   In validation dataset our accuracy is not as high as accuracy in train dataset.\n",
        "\n",
        "*   Accuracy in train data = 0.9981\n",
        "*   Accuracy in validation data = 0.9823\n",
        "\n",
        "*   So this model gives high accuracy on seen data but not so high accuracy on unseen data.\n",
        "*   There is a high variance between accuracy in Train data and Validation data.\n",
        "\n",
        "*   We will reduce this variance in our improved model.\n",
        "\n",
        "\n",
        "\n",
        "\n",
        "\n",
        "\n",
        "\n",
        "\n"
      ]
    },
    {
      "cell_type": "code",
      "metadata": {
        "colab": {
          "base_uri": "https://localhost:8080/",
          "height": 295
        },
        "id": "wxTlfjfOL1Fi",
        "outputId": "e1986d2e-f9db-4e90-ed79-4fc844e3026b"
      },
      "source": [
        "plt.plot(mymodel_train.history['val_loss'],label='Validation Data Loss')\n",
        "plt.plot(mymodel_train.history['loss'],label=' Train Data Loss')\n",
        "plt.xlabel('epochs')\n",
        "plt.ylabel('val_loss')\n",
        "plt.legend(loc='upper right')\n",
        "plt.title('Model loss')\n",
        "plt.show()"
      ],
      "execution_count": null,
      "outputs": [
        {
          "output_type": "display_data",
          "data": {
            "image/png": "[encoded data removed]",
            "text/plain": [
              "<Figure size 432x288 with 1 Axes>"
            ]
          },
          "metadata": {
            "needs_background": "light"
          }
        }
      ]
    },
    {
      "cell_type": "markdown",
      "metadata": {
        "id": "SjuEp_7I33rO"
      },
      "source": [
        "\n",
        "\n",
        "*  For each epoch we are getting decreased loss in train dataset.\n",
        "*  Loss in validation dataset is as not low as loss in train dataset.\n",
        "\n",
        "*   Loss in Train dataset = 0.0060\n",
        "*   Loss in Validation dataset = 0.0815\n",
        "\n",
        "*   So this model gives almost 0 loss on seen data but gives a little high loss on unseen data.\n",
        "*   So, there is a high variance between loss in Train data and Validation data.\n",
        "\n",
        "\n",
        "*   We will reduce this variance in our improved model.\n",
        "\n",
        "\n",
        "\n",
        "\n",
        "\n",
        "\n",
        "\n",
        "\n",
        "\n"
      ]
    },
    {
      "cell_type": "markdown",
      "metadata": {
        "id": "XVoMXIvp7RkL"
      },
      "source": [
        "# **Section 6: Model Improvement (20 points)**\n",
        "\n",
        "Improve the CNN model by adding built earlier by adding (6 points)\n",
        "1. Add 2 more Conv2D layers after the first MaxPooling layer with 64 kernels in each new layer and 3x3 filter with relu activation\n",
        "1. Add another MaxPooling2D layer\n",
        "1. Add a \"Dropout\" layer with parameter 0.2\n",
        "\n",
        "Rest layers remains the same as the previous model.\n",
        "\n",
        "1. Fit the above created improved model with 10 epochs, batch_size as 32, and verbose as 1 (10 points).\n",
        "\n",
        "2. Plot a graph showing validation accuracy of the model during training. (2 points).\n",
        "\n",
        "3. Plot a graph showing validation loss of the model during training. (2 point)\n",
        "\n",
        "\n",
        "\n"
      ]
    },
    {
      "cell_type": "code",
      "metadata": {
        "id": "PBZsx_O77_Cq"
      },
      "source": [
        "def Improved_Model():\n",
        "\tmodel = Sequential()\n",
        "\t#create the improved model\n",
        "\tmodel.add(Conv2D(32,(3,3),input_shape=(28,28,1),activation='relu'))\n",
        "\tmodel.add(MaxPooling2D((2,2)))\n",
        "\tmodel.add(Conv2D(64,(3,3),activation='relu'))\n",
        "\tmodel.add(Conv2D(64,(3,3),activation='relu'))\n",
        "\tmodel.add(MaxPooling2D((2,2)))\n",
        "\tmodel.add(Flatten())\n",
        "\tmodel.add(Dense(128, activation='relu'))\n",
        "\tmodel.add(Dropout(0.2))\n",
        "\tmodel.add(Dense(10, activation='softmax'))\n",
        " \n",
        "\t# Compile model\n",
        "\tmodel.compile(loss='categorical_crossentropy', optimizer='adam', metrics=['accuracy'])\n",
        "\treturn model"
      ],
      "execution_count": null,
      "outputs": []
    },
    {
      "cell_type": "markdown",
      "metadata": {
        "id": "CrwSIbomC08c"
      },
      "source": [
        "We add dropout layer to reduce high variance that we saw in our last model.\n",
        "\n",
        "Dropout layer will remove some of the neurons with a probability of 0.2 from each layer. It will help to spread the weight over all the neurons."
      ]
    },
    {
      "cell_type": "code",
      "metadata": {
        "id": "utYbBb4q-bsh",
        "colab": {
          "base_uri": "https://localhost:8080/"
        },
        "outputId": "0abbdcf4-1d58-410a-a6e7-7bba4ee7a39d"
      },
      "source": [
        "#call the above given function for improved model and print model summary\n",
        "imp_model=Improved_Model()\n",
        "imp_model.summary()"
      ],
      "execution_count": null,
      "outputs": [
        {
          "output_type": "stream",
          "name": "stdout",
          "text": [
            "Model: \"sequential_5\"\n",
            "_________________________________________________________________\n",
            " Layer (type)                Output Shape              Param #   \n",
            "=================================================================\n",
            " conv2d_9 (Conv2D)           (None, 26, 26, 32)        320       \n",
            "                                                                 \n",
            " max_pooling2d_7 (MaxPooling  (None, 13, 13, 32)       0         \n",
            " 2D)                                                             \n",
            "                                                                 \n",
            " conv2d_10 (Conv2D)          (None, 11, 11, 64)        18496     \n",
            "                                                                 \n",
            " conv2d_11 (Conv2D)          (None, 9, 9, 64)          36928     \n",
            "                                                                 \n",
            " max_pooling2d_8 (MaxPooling  (None, 4, 4, 64)         0         \n",
            " 2D)                                                             \n",
            "                                                                 \n",
            " flatten_5 (Flatten)         (None, 1024)              0         \n",
            "                                                                 \n",
            " dense_10 (Dense)            (None, 128)               131200    \n",
            "                                                                 \n",
            " dropout_2 (Dropout)         (None, 128)               0         \n",
            "                                                                 \n",
            " dense_11 (Dense)            (None, 10)                1290      \n",
            "                                                                 \n",
            "=================================================================\n",
            "Total params: 188,234\n",
            "Trainable params: 188,234\n",
            "Non-trainable params: 0\n",
            "_________________________________________________________________\n"
          ]
        }
      ]
    },
    {
      "cell_type": "code",
      "metadata": {
        "id": "zt6fh6hlA8hA",
        "colab": {
          "base_uri": "https://localhost:8080/"
        },
        "outputId": "224ddc28-ee5d-43d1-b820-04f0e239fad3"
      },
      "source": [
        "#fit the model and show plots\n",
        "impmodel_train=imp_model.fit(x_train,y_train,epochs=10,batch_size=32,verbose=1,validation_data=(x_vali, y_vali))"
      ],
      "execution_count": null,
      "outputs": [
        {
          "output_type": "stream",
          "name": "stdout",
          "text": [
            "Epoch 1/10\n",
            "1500/1500 [==============================] - 73s 48ms/step - loss: 0.1589 - accuracy: 0.9509 - val_loss: 0.0590 - val_accuracy: 0.9816\n",
            "Epoch 2/10\n",
            "1500/1500 [==============================] - 71s 48ms/step - loss: 0.0550 - accuracy: 0.9830 - val_loss: 0.0519 - val_accuracy: 0.9832\n",
            "Epoch 3/10\n",
            "1500/1500 [==============================] - 72s 48ms/step - loss: 0.0383 - accuracy: 0.9875 - val_loss: 0.0432 - val_accuracy: 0.9877\n",
            "Epoch 4/10\n",
            "1500/1500 [==============================] - 72s 48ms/step - loss: 0.0296 - accuracy: 0.9905 - val_loss: 0.0347 - val_accuracy: 0.9897\n",
            "Epoch 5/10\n",
            "1500/1500 [==============================] - 72s 48ms/step - loss: 0.0238 - accuracy: 0.9929 - val_loss: 0.0337 - val_accuracy: 0.9904\n",
            "Epoch 6/10\n",
            "1500/1500 [==============================] - 71s 48ms/step - loss: 0.0188 - accuracy: 0.9938 - val_loss: 0.0329 - val_accuracy: 0.9918\n",
            "Epoch 7/10\n",
            "1500/1500 [==============================] - 71s 47ms/step - loss: 0.0168 - accuracy: 0.9941 - val_loss: 0.0343 - val_accuracy: 0.9909\n",
            "Epoch 8/10\n",
            "1500/1500 [==============================] - 70s 47ms/step - loss: 0.0147 - accuracy: 0.9950 - val_loss: 0.0389 - val_accuracy: 0.9898\n",
            "Epoch 9/10\n",
            "1500/1500 [==============================] - 70s 47ms/step - loss: 0.0110 - accuracy: 0.9964 - val_loss: 0.0348 - val_accuracy: 0.9918\n",
            "Epoch 10/10\n",
            "1500/1500 [==============================] - 70s 47ms/step - loss: 0.0123 - accuracy: 0.9961 - val_loss: 0.0311 - val_accuracy: 0.9921\n"
          ]
        }
      ]
    },
    {
      "cell_type": "code",
      "metadata": {
        "colab": {
          "base_uri": "https://localhost:8080/",
          "height": 295
        },
        "id": "g4mi2zmVl6A8",
        "outputId": "d72ad09f-3f38-40fa-c4f3-2d5056cc0aa8"
      },
      "source": [
        "plt.plot(impmodel_train.history['val_accuracy'],label='Validation Data Accuracy')\n",
        "plt.plot(impmodel_train.history['accuracy'],label='Train Data Accuracy')\n",
        "plt.xlabel('epochs')\n",
        "plt.ylabel('accuracy')\n",
        "plt.legend(loc='lower right')\n",
        "plt.title('Model Accuracy')\n",
        "plt.show()\n"
      ],
      "execution_count": null,
      "outputs": [
        {
          "output_type": "display_data",
          "data": {
            "image/png": "[encoded data removed]",
            "text/plain": [
              "<Figure size 432x288 with 1 Axes>"
            ]
          },
          "metadata": {
            "needs_background": "light"
          }
        }
      ]
    },
    {
      "cell_type": "markdown",
      "metadata": {
        "id": "UITbuF8K3pNl"
      },
      "source": [
        "\n",
        "\n",
        "*   For each epoch there is increase in accuracy in train dataset.\n",
        "\n",
        "\n",
        "\n",
        "\n",
        "*   Accuracy of train dataset is = 0.9961\n",
        "*   Accuracy of validation dataset = 0.9921\n",
        "\n",
        "*   So in our improved model we get almost same Accuracy of Train dataset and Validation dataset.\n",
        "*   So there is very less variance in improved model as comparison to our previous model because of dropout layer.\n",
        "\n",
        "\n",
        "\n"
      ]
    },
    {
      "cell_type": "code",
      "metadata": {
        "colab": {
          "base_uri": "https://localhost:8080/",
          "height": 295
        },
        "id": "5kawxAfumQBK",
        "outputId": "67766f1d-f0e8-45ba-a191-7c39a17d7235"
      },
      "source": [
        "plt.plot(impmodel_train.history['val_loss'],label='Validation Data Loss')\n",
        "plt.plot(impmodel_train.history['loss'],label=' Train Data Loss')\n",
        "plt.xlabel('epochs')\n",
        "plt.ylabel('val_loss')\n",
        "plt.legend(loc='upper right')\n",
        "plt.title('Model loss')\n",
        "plt.show()"
      ],
      "execution_count": null,
      "outputs": [
        {
          "output_type": "display_data",
          "data": {
            "image/png": "[encoded data removed]",
            "text/plain": [
              "<Figure size 432x288 with 1 Axes>"
            ]
          },
          "metadata": {
            "needs_background": "light"
          }
        }
      ]
    },
    {
      "cell_type": "markdown",
      "metadata": {
        "id": "hN7wQloo4Xf9"
      },
      "source": [
        "\n",
        "\n",
        "\n",
        "*   For each epoch there is decrease in loss in train dataset.\n",
        "\n",
        "\n",
        "*   Loss of train dataset = 0.0123\n",
        "*   Loss of validation dataset = 0.0311\n",
        "\n",
        "*   So in our improved model we get almost same loss on seen data and unseen data.\n",
        "*   Variance in loss is very less in improved model as comparison to our previous model.\n",
        "\n",
        "\n",
        "\n"
      ]
    },
    {
      "cell_type": "markdown",
      "metadata": {
        "id": "isIdQNn2ggPP"
      },
      "source": [
        "#**Section 6: Model Evaluation (20 points)**\n",
        "\n",
        "You need to evaluate the performance of both the models on test data and print accuracy and loss (5 points). Further, comment on the performance of each model."
      ]
    },
    {
      "cell_type": "code",
      "metadata": {
        "id": "tXioMjr7gUwb",
        "colab": {
          "base_uri": "https://localhost:8080/"
        },
        "outputId": "a27714ae-61b4-4d19-9610-ec80ae52997e"
      },
      "source": [
        "#Your code and comments here\n",
        "loss,accuracy=mymodel.evaluate(x_test,y_test,verbose=1)\n"
      ],
      "execution_count": null,
      "outputs": [
        {
          "output_type": "stream",
          "name": "stdout",
          "text": [
            "313/313 [==============================] - 3s 8ms/step - loss: 0.0813 - accuracy: 0.9815\n"
          ]
        }
      ]
    },
    {
      "cell_type": "markdown",
      "metadata": {
        "id": "es-kEm1R44Gz"
      },
      "source": [
        "**OBSERVATIONS FOR FIRST MODEL:**\n",
        "\n",
        "**Accuracy of our first model on the testing data is 0.9815 and on the training data accuracy was 0.9981**\n",
        "\n",
        "**So our first model gives a good accuracy on the unseen/testing data also.**\n",
        "\n",
        "**Loss on testing data is 0.0813 and loss on training data was 0.0060**\n",
        "\n",
        "**So it also gives a considerably less loss on the testing/unseen data.**  "
      ]
    },
    {
      "cell_type": "code",
      "metadata": {
        "colab": {
          "base_uri": "https://localhost:8080/"
        },
        "id": "EttazIqTvotq",
        "outputId": "c5e631f5-1acf-49f9-8720-3d81c6769be7"
      },
      "source": [
        "imp_loss,imp_accuracy=imp_model.evaluate(x_test,y_test,verbose=1)"
      ],
      "execution_count": null,
      "outputs": [
        {
          "output_type": "stream",
          "name": "stdout",
          "text": [
            "313/313 [==============================] - 5s 15ms/step - loss: 0.0310 - accuracy: 0.9920\n"
          ]
        }
      ]
    },
    {
      "cell_type": "markdown",
      "metadata": {
        "id": "V1o3vWxEJjrq"
      },
      "source": [
        "**OBSERVATIONS FOR IMPROVED MODEL:**\n",
        "\n",
        "**Accuracy of our improved model on testing data is 0.9920 and on training data it was 0.9961.**\n",
        "\n",
        "**So both the accuracies on training as well as testing data are very similar. This shows that our improved model works equally good on both testing and training data.**\n",
        "\n",
        "**Loss of our improved model on testing data is 0.0310 and loss on training data was 0.0123**\n",
        "\n",
        "**So loss on both training and testing data is also very similar. This also shows that our improved model works equally good on both testing and training data.**"
      ]
    },
    {
      "cell_type": "markdown",
      "metadata": {
        "id": "rInq08tea5cF"
      },
      "source": [
        "**CONCLUSIONS:**\n",
        "\n",
        "**Improved model gives higher accurace and lower loss value than our first model.**\n",
        "\n",
        "**Improved model gives less variance for loss and accuracy on training and vaildation data as comparison to our first model with the help of dropout layer.**\n",
        "\n",
        "**Improved model performs better on unseen data than first model.**"
      ]
    }
  ]
}